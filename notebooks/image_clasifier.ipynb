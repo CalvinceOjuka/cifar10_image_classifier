version https://git-lfs.github.com/spec/v1
oid sha256:96e315686b99ffc183f7b3561c9caede7464db70de339b1a5e39a9c722b571a9
size 255081
